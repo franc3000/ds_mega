{
 "cells": [
  {
   "cell_type": "code",
   "execution_count": 4,
   "metadata": {
    "collapsed": true
   },
   "outputs": [],
   "source": [
    "import pandas as pd\n",
    "import numpy as np\n",
    "%matplotlib inline"
   ]
  },
  {
   "cell_type": "code",
   "execution_count": 5,
   "metadata": {
    "collapsed": true
   },
   "outputs": [],
   "source": [
    "from sklearn.pipeline import Pipeline\n",
    "from sklearn.base import TransformerMixin, BaseEstimator\n",
    "from sklearn.preprocessing import StandardScaler"
   ]
  },
  {
   "cell_type": "code",
   "execution_count": 6,
   "metadata": {
    "collapsed": false
   },
   "outputs": [
    {
     "ename": "ImportError",
     "evalue": "No module named ds_mega",
     "output_type": "error",
     "traceback": [
      "\u001b[0;31m---------------------------------------------------------------------------\u001b[0m",
      "\u001b[0;31mImportError\u001b[0m                               Traceback (most recent call last)",
      "\u001b[0;32m<ipython-input-6-59ff98b91247>\u001b[0m in \u001b[0;36m<module>\u001b[0;34m()\u001b[0m\n\u001b[0;32m----> 1\u001b[0;31m \u001b[0;32mimport\u001b[0m \u001b[0mds_mega\u001b[0m\u001b[0;34m\u001b[0m\u001b[0m\n\u001b[0m",
      "\u001b[0;31mImportError\u001b[0m: No module named ds_mega"
     ]
    }
   ],
   "source": [
    "import ds_mega"
   ]
  },
  {
   "cell_type": "code",
   "execution_count": 4,
   "metadata": {
    "collapsed": true
   },
   "outputs": [],
   "source": [
    "dtype = {'fips': str}"
   ]
  },
  {
   "cell_type": "code",
   "execution_count": 5,
   "metadata": {
    "collapsed": false
   },
   "outputs": [],
   "source": [
    "df = pd.read_csv('../data/raw/tmp_ds_cluster.csv.gz', dtype=dtype)"
   ]
  },
  {
   "cell_type": "code",
   "execution_count": 9,
   "metadata": {
    "collapsed": false
   },
   "outputs": [
    {
     "data": {
      "text/html": [
       "<div>\n",
       "<table border=\"1\" class=\"dataframe\">\n",
       "  <thead>\n",
       "    <tr style=\"text-align: right;\">\n",
       "      <th></th>\n",
       "      <th>id</th>\n",
       "      <th>fips</th>\n",
       "      <th>random</th>\n",
       "      <th>OwnerOccupiedInt</th>\n",
       "      <th>YearBuilt</th>\n",
       "      <th>SquareFootage</th>\n",
       "      <th>LotSize</th>\n",
       "      <th>EstimatedValue</th>\n",
       "      <th>TaxAssessedValue</th>\n",
       "      <th>TaxImprovementValue</th>\n",
       "      <th>TaxLandValue</th>\n",
       "      <th>TaxImprovementPercent</th>\n",
       "      <th>TaxAmount</th>\n",
       "    </tr>\n",
       "  </thead>\n",
       "  <tbody>\n",
       "    <tr>\n",
       "      <th>0</th>\n",
       "      <td>186523711</td>\n",
       "      <td>01073</td>\n",
       "      <td>0.000003</td>\n",
       "      <td>0</td>\n",
       "      <td>1900</td>\n",
       "      <td>1200</td>\n",
       "      <td>11620.0</td>\n",
       "      <td>50000</td>\n",
       "      <td>5200</td>\n",
       "      <td>0</td>\n",
       "      <td>0</td>\n",
       "      <td>0</td>\n",
       "      <td>377</td>\n",
       "    </tr>\n",
       "    <tr>\n",
       "      <th>1</th>\n",
       "      <td>149312683</td>\n",
       "      <td>01073</td>\n",
       "      <td>0.000030</td>\n",
       "      <td>1</td>\n",
       "      <td>1998</td>\n",
       "      <td>2288</td>\n",
       "      <td>0.0</td>\n",
       "      <td>302000</td>\n",
       "      <td>59440</td>\n",
       "      <td>0</td>\n",
       "      <td>0</td>\n",
       "      <td>0</td>\n",
       "      <td>3691</td>\n",
       "    </tr>\n",
       "    <tr>\n",
       "      <th>2</th>\n",
       "      <td>190417232</td>\n",
       "      <td>01073</td>\n",
       "      <td>0.000053</td>\n",
       "      <td>0</td>\n",
       "      <td>1949</td>\n",
       "      <td>978</td>\n",
       "      <td>7200.0</td>\n",
       "      <td>39000</td>\n",
       "      <td>8240</td>\n",
       "      <td>0</td>\n",
       "      <td>0</td>\n",
       "      <td>0</td>\n",
       "      <td>597</td>\n",
       "    </tr>\n",
       "    <tr>\n",
       "      <th>3</th>\n",
       "      <td>194862634</td>\n",
       "      <td>01073</td>\n",
       "      <td>0.001009</td>\n",
       "      <td>1</td>\n",
       "      <td>2007</td>\n",
       "      <td>1125</td>\n",
       "      <td>0.0</td>\n",
       "      <td>120000</td>\n",
       "      <td>12600</td>\n",
       "      <td>0</td>\n",
       "      <td>0</td>\n",
       "      <td>0</td>\n",
       "      <td>578</td>\n",
       "    </tr>\n",
       "    <tr>\n",
       "      <th>4</th>\n",
       "      <td>195182082</td>\n",
       "      <td>01073</td>\n",
       "      <td>0.001124</td>\n",
       "      <td>0</td>\n",
       "      <td>1952</td>\n",
       "      <td>1056</td>\n",
       "      <td>7200.0</td>\n",
       "      <td>45000</td>\n",
       "      <td>10020</td>\n",
       "      <td>0</td>\n",
       "      <td>0</td>\n",
       "      <td>0</td>\n",
       "      <td>826</td>\n",
       "    </tr>\n",
       "  </tbody>\n",
       "</table>\n",
       "</div>"
      ],
      "text/plain": [
       "          id   fips    random  OwnerOccupiedInt  YearBuilt  SquareFootage  \\\n",
       "0  186523711  01073  0.000003                 0       1900           1200   \n",
       "1  149312683  01073  0.000030                 1       1998           2288   \n",
       "2  190417232  01073  0.000053                 0       1949            978   \n",
       "3  194862634  01073  0.001009                 1       2007           1125   \n",
       "4  195182082  01073  0.001124                 0       1952           1056   \n",
       "\n",
       "   LotSize  EstimatedValue  TaxAssessedValue  TaxImprovementValue  \\\n",
       "0  11620.0           50000              5200                    0   \n",
       "1      0.0          302000             59440                    0   \n",
       "2   7200.0           39000              8240                    0   \n",
       "3      0.0          120000             12600                    0   \n",
       "4   7200.0           45000             10020                    0   \n",
       "\n",
       "   TaxLandValue  TaxImprovementPercent  TaxAmount  \n",
       "0             0                      0        377  \n",
       "1             0                      0       3691  \n",
       "2             0                      0        597  \n",
       "3             0                      0        578  \n",
       "4             0                      0        826  "
      ]
     },
     "execution_count": 9,
     "metadata": {},
     "output_type": "execute_result"
    }
   ],
   "source": [
    "df.head()"
   ]
  },
  {
   "cell_type": "code",
   "execution_count": null,
   "metadata": {
    "collapsed": true
   },
   "outputs": [],
   "source": []
  }
 ],
 "metadata": {
  "kernelspec": {
   "display_name": "Python 2",
   "language": "python",
   "name": "python2"
  },
  "language_info": {
   "codemirror_mode": {
    "name": "ipython",
    "version": 2
   },
   "file_extension": ".py",
   "mimetype": "text/x-python",
   "name": "python",
   "nbconvert_exporter": "python",
   "pygments_lexer": "ipython2",
   "version": "2.7.11"
  }
 },
 "nbformat": 4,
 "nbformat_minor": 1
}
