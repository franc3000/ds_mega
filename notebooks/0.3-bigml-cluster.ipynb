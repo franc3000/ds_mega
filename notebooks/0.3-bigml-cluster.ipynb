{
 "cells": [
  {
   "cell_type": "code",
   "execution_count": 23,
   "metadata": {
    "collapsed": true
   },
   "outputs": [],
   "source": [
    "# Requires BigML Python bindings\n",
    "# Install via: pip install bigml\n",
    "\n",
    "from bigml.cluster import Cluster\n",
    "from bigml.api import BigML"
   ]
  },
  {
   "cell_type": "code",
   "execution_count": 24,
   "metadata": {
    "collapsed": true
   },
   "outputs": [],
   "source": [
    "# Downloads and generates a local version of the cluster, if it\n",
    "# hasn't been downloaded previously.\n",
    "\n",
    "cluster = Cluster('cluster/587c241449c4a169320012ec',\n",
    "                  api=BigML(\"theFranc23\",\n",
    "                            \"03af64c3ea1c79046edd74a5a21d229e6519dae0\",\n",
    "                            dev_mode=True,\n",
    "                            domain=\"bigml.io\"))"
   ]
  },
  {
   "cell_type": "code",
   "execution_count": 42,
   "metadata": {
    "collapsed": false
   },
   "outputs": [],
   "source": [
    "# To predict centroids fill the desired input_data\n",
    "# in next line. Numeric fields are compulsory.\n",
    "\n",
    "input_data = {\n",
    "    \"EstimatedValue\": 1,\n",
    "    \"TaxAssessedValue\": 1,\n",
    "    \"SquareFootage\": 1,\n",
    "    \"LotSize\": 1,\n",
    "    \"OwnerOccupiedInt\": 1,\n",
    "    \"HouseAge\": 1,\n",
    "    \"fips\": 1,\n",
    "    \"TaxImprovementValue\": 1,\n",
    "    \"TaxLandValue\": 1,\n",
    "    \"LOO\": 1,\n",
    "    \"TaxAmount\": 1\n",
    "}"
   ]
  },
  {
   "cell_type": "code",
   "execution_count": 43,
   "metadata": {
    "collapsed": false
   },
   "outputs": [
    {
     "data": {
      "text/plain": [
       "{'centroid_id': u'00000a',\n",
       " 'centroid_name': u'Cluster 10',\n",
       " 'distance': 1.5599876273626692}"
      ]
     },
     "execution_count": 43,
     "metadata": {},
     "output_type": "execute_result"
    }
   ],
   "source": [
    "# The result is a dict with three keys: distance, centroid_name and centroid_id\n",
    "cluster.centroid(input_data)"
   ]
  },
  {
   "cell_type": "code",
   "execution_count": 30,
   "metadata": {
    "collapsed": false
   },
   "outputs": [
    {
     "data": {
      "text/plain": [
       "14"
      ]
     },
     "execution_count": 30,
     "metadata": {},
     "output_type": "execute_result"
    }
   ],
   "source": [
    "cluster.k"
   ]
  },
  {
   "cell_type": "code",
   "execution_count": 35,
   "metadata": {
    "collapsed": false
   },
   "outputs": [],
   "source": [
    "c0 = cluster.centroids[0]"
   ]
  },
  {
   "cell_type": "code",
   "execution_count": 36,
   "metadata": {
    "collapsed": false
   },
   "outputs": [
    {
     "data": {
      "text/plain": [
       "bigml.centroid.Centroid"
      ]
     },
     "execution_count": 36,
     "metadata": {},
     "output_type": "execute_result"
    }
   ],
   "source": [
    "type(c0)"
   ]
  },
  {
   "cell_type": "code",
   "execution_count": 39,
   "metadata": {
    "collapsed": false
   },
   "outputs": [
    {
     "name": "stdout",
     "output_type": "stream",
     "text": [
      "    Cluster 00:\n",
      "        Minimum: 0.2413\n",
      "        Mean: 0.93332\n",
      "        Median: 0.86639\n",
      "        Maximum: 31.43728\n",
      "        Standard deviation: 0.40043\n",
      "        Sum: 17501.6956\n",
      "        Sum squares: 19341.41793\n",
      "        Variance: 0.16035\n",
      "\n"
     ]
    }
   ],
   "source": [
    "c0.print_statistics()"
   ]
  },
  {
   "cell_type": "code",
   "execution_count": null,
   "metadata": {
    "collapsed": true
   },
   "outputs": [],
   "source": []
  }
 ],
 "metadata": {
  "kernelspec": {
   "display_name": "Python 2",
   "language": "python",
   "name": "python2"
  },
  "language_info": {
   "codemirror_mode": {
    "name": "ipython",
    "version": 2
   },
   "file_extension": ".py",
   "mimetype": "text/x-python",
   "name": "python",
   "nbconvert_exporter": "python",
   "pygments_lexer": "ipython2",
   "version": "2.7.11"
  }
 },
 "nbformat": 4,
 "nbformat_minor": 1
}
