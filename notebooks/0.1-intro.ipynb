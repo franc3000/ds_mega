{
 "cells": [
  {
   "cell_type": "code",
   "execution_count": 41,
   "metadata": {
    "collapsed": true
   },
   "outputs": [],
   "source": [
    "import pandas as pd\n",
    "import numpy as np\n",
    "%matplotlib inline"
   ]
  },
  {
   "cell_type": "code",
   "execution_count": null,
   "metadata": {
    "collapsed": true
   },
   "outputs": [],
   "source": [
    "from sklearn.pipeline import Pipeline\n",
    "from sklearn.base import TransformerMixin, BaseEstimator\n",
    "from sklearn.preprocessing import StandardScaler"
   ]
  },
  {
   "cell_type": "code",
   "execution_count": null,
   "metadata": {
    "collapsed": true
   },
   "outputs": [],
   "source": [
    "from src.data import make_dataset"
   ]
  },
  {
   "cell_type": "markdown",
   "metadata": {},
   "source": [
    "# import clustering data"
   ]
  },
  {
   "cell_type": "code",
   "execution_count": 19,
   "metadata": {
    "collapsed": true
   },
   "outputs": [],
   "source": [
    "dtype = {'fips': str}"
   ]
  },
  {
   "cell_type": "code",
   "execution_count": 20,
   "metadata": {
    "collapsed": false
   },
   "outputs": [],
   "source": [
    "df = pd.read_csv('../data/raw/tmp_ds_cluster.csv.gz', dtype=dtype)"
   ]
  },
  {
   "cell_type": "code",
   "execution_count": 98,
   "metadata": {
    "collapsed": false
   },
   "outputs": [
    {
     "data": {
      "text/html": [
       "<div>\n",
       "<table border=\"1\" class=\"dataframe\">\n",
       "  <thead>\n",
       "    <tr style=\"text-align: right;\">\n",
       "      <th></th>\n",
       "      <th>id</th>\n",
       "      <th>fips</th>\n",
       "      <th>random</th>\n",
       "      <th>OwnerOccupiedInt</th>\n",
       "      <th>YearBuilt</th>\n",
       "      <th>SquareFootage</th>\n",
       "      <th>LotSize</th>\n",
       "      <th>EstimatedValue</th>\n",
       "      <th>TaxAssessedValue</th>\n",
       "      <th>TaxImprovementValue</th>\n",
       "      <th>TaxLandValue</th>\n",
       "      <th>TaxImprovementPercent</th>\n",
       "      <th>TaxAmount</th>\n",
       "    </tr>\n",
       "  </thead>\n",
       "  <tbody>\n",
       "    <tr>\n",
       "      <th>0</th>\n",
       "      <td>186523711</td>\n",
       "      <td>01073</td>\n",
       "      <td>0.000003</td>\n",
       "      <td>0</td>\n",
       "      <td>1900</td>\n",
       "      <td>1200</td>\n",
       "      <td>11620.0</td>\n",
       "      <td>50000</td>\n",
       "      <td>5200</td>\n",
       "      <td>0</td>\n",
       "      <td>0</td>\n",
       "      <td>0</td>\n",
       "      <td>377</td>\n",
       "    </tr>\n",
       "    <tr>\n",
       "      <th>1</th>\n",
       "      <td>149312683</td>\n",
       "      <td>01073</td>\n",
       "      <td>0.000030</td>\n",
       "      <td>1</td>\n",
       "      <td>1998</td>\n",
       "      <td>2288</td>\n",
       "      <td>0.0</td>\n",
       "      <td>302000</td>\n",
       "      <td>59440</td>\n",
       "      <td>0</td>\n",
       "      <td>0</td>\n",
       "      <td>0</td>\n",
       "      <td>3691</td>\n",
       "    </tr>\n",
       "    <tr>\n",
       "      <th>2</th>\n",
       "      <td>190417232</td>\n",
       "      <td>01073</td>\n",
       "      <td>0.000053</td>\n",
       "      <td>0</td>\n",
       "      <td>1949</td>\n",
       "      <td>978</td>\n",
       "      <td>7200.0</td>\n",
       "      <td>39000</td>\n",
       "      <td>8240</td>\n",
       "      <td>0</td>\n",
       "      <td>0</td>\n",
       "      <td>0</td>\n",
       "      <td>597</td>\n",
       "    </tr>\n",
       "    <tr>\n",
       "      <th>3</th>\n",
       "      <td>194862634</td>\n",
       "      <td>01073</td>\n",
       "      <td>0.001009</td>\n",
       "      <td>1</td>\n",
       "      <td>2007</td>\n",
       "      <td>1125</td>\n",
       "      <td>0.0</td>\n",
       "      <td>120000</td>\n",
       "      <td>12600</td>\n",
       "      <td>0</td>\n",
       "      <td>0</td>\n",
       "      <td>0</td>\n",
       "      <td>578</td>\n",
       "    </tr>\n",
       "    <tr>\n",
       "      <th>4</th>\n",
       "      <td>195182082</td>\n",
       "      <td>01073</td>\n",
       "      <td>0.001124</td>\n",
       "      <td>0</td>\n",
       "      <td>1952</td>\n",
       "      <td>1056</td>\n",
       "      <td>7200.0</td>\n",
       "      <td>45000</td>\n",
       "      <td>10020</td>\n",
       "      <td>0</td>\n",
       "      <td>0</td>\n",
       "      <td>0</td>\n",
       "      <td>826</td>\n",
       "    </tr>\n",
       "  </tbody>\n",
       "</table>\n",
       "</div>"
      ],
      "text/plain": [
       "          id   fips    random  OwnerOccupiedInt  YearBuilt  SquareFootage  \\\n",
       "0  186523711  01073  0.000003                 0       1900           1200   \n",
       "1  149312683  01073  0.000030                 1       1998           2288   \n",
       "2  190417232  01073  0.000053                 0       1949            978   \n",
       "3  194862634  01073  0.001009                 1       2007           1125   \n",
       "4  195182082  01073  0.001124                 0       1952           1056   \n",
       "\n",
       "   LotSize  EstimatedValue  TaxAssessedValue  TaxImprovementValue  \\\n",
       "0  11620.0           50000              5200                    0   \n",
       "1      0.0          302000             59440                    0   \n",
       "2   7200.0           39000              8240                    0   \n",
       "3      0.0          120000             12600                    0   \n",
       "4   7200.0           45000             10020                    0   \n",
       "\n",
       "   TaxLandValue  TaxImprovementPercent  TaxAmount  \n",
       "0             0                      0        377  \n",
       "1             0                      0       3691  \n",
       "2             0                      0        597  \n",
       "3             0                      0        578  \n",
       "4             0                      0        826  "
      ]
     },
     "execution_count": 98,
     "metadata": {},
     "output_type": "execute_result"
    }
   ],
   "source": [
    "df.head()"
   ]
  },
  {
   "cell_type": "code",
   "execution_count": 106,
   "metadata": {
    "collapsed": false
   },
   "outputs": [
    {
     "data": {
      "text/html": [
       "<div>\n",
       "<table border=\"1\" class=\"dataframe\">\n",
       "  <thead>\n",
       "    <tr style=\"text-align: right;\">\n",
       "      <th></th>\n",
       "      <th>count</th>\n",
       "      <th>mean</th>\n",
       "      <th>std</th>\n",
       "      <th>min</th>\n",
       "      <th>25%</th>\n",
       "      <th>50%</th>\n",
       "      <th>75%</th>\n",
       "      <th>max</th>\n",
       "    </tr>\n",
       "  </thead>\n",
       "  <tbody>\n",
       "    <tr>\n",
       "      <th>id</th>\n",
       "      <td>267661.0</td>\n",
       "      <td>89585295.0</td>\n",
       "      <td>79651465.9</td>\n",
       "      <td>21944.0</td>\n",
       "      <td>20734904.0</td>\n",
       "      <td>45924294.0</td>\n",
       "      <td>161552172.0</td>\n",
       "      <td>253263704.0</td>\n",
       "    </tr>\n",
       "    <tr>\n",
       "      <th>random</th>\n",
       "      <td>267661.0</td>\n",
       "      <td>0.1</td>\n",
       "      <td>0.1</td>\n",
       "      <td>0.0</td>\n",
       "      <td>0.0</td>\n",
       "      <td>0.1</td>\n",
       "      <td>0.1</td>\n",
       "      <td>0.2</td>\n",
       "    </tr>\n",
       "    <tr>\n",
       "      <th>OwnerOccupiedInt</th>\n",
       "      <td>267661.0</td>\n",
       "      <td>0.8</td>\n",
       "      <td>0.4</td>\n",
       "      <td>0.0</td>\n",
       "      <td>1.0</td>\n",
       "      <td>1.0</td>\n",
       "      <td>1.0</td>\n",
       "      <td>1.0</td>\n",
       "    </tr>\n",
       "    <tr>\n",
       "      <th>YearBuilt</th>\n",
       "      <td>267661.0</td>\n",
       "      <td>1890.9</td>\n",
       "      <td>412.9</td>\n",
       "      <td>0.0</td>\n",
       "      <td>1959.0</td>\n",
       "      <td>1985.0</td>\n",
       "      <td>2001.0</td>\n",
       "      <td>2016.0</td>\n",
       "    </tr>\n",
       "    <tr>\n",
       "      <th>SquareFootage</th>\n",
       "      <td>267661.0</td>\n",
       "      <td>1797.0</td>\n",
       "      <td>866.3</td>\n",
       "      <td>0.0</td>\n",
       "      <td>1257.0</td>\n",
       "      <td>1665.0</td>\n",
       "      <td>2238.0</td>\n",
       "      <td>36096.0</td>\n",
       "    </tr>\n",
       "    <tr>\n",
       "      <th>LotSize</th>\n",
       "      <td>267661.0</td>\n",
       "      <td>25118.6</td>\n",
       "      <td>1251021.7</td>\n",
       "      <td>0.0</td>\n",
       "      <td>5663.0</td>\n",
       "      <td>7962.0</td>\n",
       "      <td>12350.0</td>\n",
       "      <td>443179440.0</td>\n",
       "    </tr>\n",
       "    <tr>\n",
       "      <th>EstimatedValue</th>\n",
       "      <td>267661.0</td>\n",
       "      <td>298065.5</td>\n",
       "      <td>188681.5</td>\n",
       "      <td>0.0</td>\n",
       "      <td>169000.0</td>\n",
       "      <td>258000.0</td>\n",
       "      <td>383000.0</td>\n",
       "      <td>2961000.0</td>\n",
       "    </tr>\n",
       "    <tr>\n",
       "      <th>TaxAssessedValue</th>\n",
       "      <td>267661.0</td>\n",
       "      <td>182407.9</td>\n",
       "      <td>183883.4</td>\n",
       "      <td>0.0</td>\n",
       "      <td>39600.0</td>\n",
       "      <td>134190.0</td>\n",
       "      <td>259700.0</td>\n",
       "      <td>15155262.0</td>\n",
       "    </tr>\n",
       "    <tr>\n",
       "      <th>TaxImprovementValue</th>\n",
       "      <td>267661.0</td>\n",
       "      <td>97232.0</td>\n",
       "      <td>116110.7</td>\n",
       "      <td>0.0</td>\n",
       "      <td>7590.0</td>\n",
       "      <td>54684.0</td>\n",
       "      <td>153700.0</td>\n",
       "      <td>6604388.0</td>\n",
       "    </tr>\n",
       "    <tr>\n",
       "      <th>TaxLandValue</th>\n",
       "      <td>267661.0</td>\n",
       "      <td>52179.4</td>\n",
       "      <td>97439.9</td>\n",
       "      <td>0.0</td>\n",
       "      <td>2388.0</td>\n",
       "      <td>16800.0</td>\n",
       "      <td>62500.0</td>\n",
       "      <td>13336812.0</td>\n",
       "    </tr>\n",
       "    <tr>\n",
       "      <th>TaxImprovementPercent</th>\n",
       "      <td>267661.0</td>\n",
       "      <td>55.6</td>\n",
       "      <td>32.8</td>\n",
       "      <td>0.0</td>\n",
       "      <td>30.0</td>\n",
       "      <td>71.0</td>\n",
       "      <td>80.0</td>\n",
       "      <td>100.0</td>\n",
       "    </tr>\n",
       "    <tr>\n",
       "      <th>TaxAmount</th>\n",
       "      <td>267661.0</td>\n",
       "      <td>2828.8</td>\n",
       "      <td>2153.7</td>\n",
       "      <td>0.0</td>\n",
       "      <td>1369.0</td>\n",
       "      <td>2319.0</td>\n",
       "      <td>3729.0</td>\n",
       "      <td>148496.0</td>\n",
       "    </tr>\n",
       "  </tbody>\n",
       "</table>\n",
       "</div>"
      ],
      "text/plain": [
       "                          count        mean         std      min         25%  \\\n",
       "id                     267661.0  89585295.0  79651465.9  21944.0  20734904.0   \n",
       "random                 267661.0         0.1         0.1      0.0         0.0   \n",
       "OwnerOccupiedInt       267661.0         0.8         0.4      0.0         1.0   \n",
       "YearBuilt              267661.0      1890.9       412.9      0.0      1959.0   \n",
       "SquareFootage          267661.0      1797.0       866.3      0.0      1257.0   \n",
       "LotSize                267661.0     25118.6   1251021.7      0.0      5663.0   \n",
       "EstimatedValue         267661.0    298065.5    188681.5      0.0    169000.0   \n",
       "TaxAssessedValue       267661.0    182407.9    183883.4      0.0     39600.0   \n",
       "TaxImprovementValue    267661.0     97232.0    116110.7      0.0      7590.0   \n",
       "TaxLandValue           267661.0     52179.4     97439.9      0.0      2388.0   \n",
       "TaxImprovementPercent  267661.0        55.6        32.8      0.0        30.0   \n",
       "TaxAmount              267661.0      2828.8      2153.7      0.0      1369.0   \n",
       "\n",
       "                              50%          75%          max  \n",
       "id                     45924294.0  161552172.0  253263704.0  \n",
       "random                        0.1          0.1          0.2  \n",
       "OwnerOccupiedInt              1.0          1.0          1.0  \n",
       "YearBuilt                  1985.0       2001.0       2016.0  \n",
       "SquareFootage              1665.0       2238.0      36096.0  \n",
       "LotSize                    7962.0      12350.0  443179440.0  \n",
       "EstimatedValue           258000.0     383000.0    2961000.0  \n",
       "TaxAssessedValue         134190.0     259700.0   15155262.0  \n",
       "TaxImprovementValue       54684.0     153700.0    6604388.0  \n",
       "TaxLandValue              16800.0      62500.0   13336812.0  \n",
       "TaxImprovementPercent        71.0         80.0        100.0  \n",
       "TaxAmount                  2319.0       3729.0     148496.0  "
      ]
     },
     "execution_count": 106,
     "metadata": {},
     "output_type": "execute_result"
    }
   ],
   "source": [
    "df.describe().transpose().round(1)"
   ]
  },
  {
   "cell_type": "code",
   "execution_count": 22,
   "metadata": {
    "collapsed": true
   },
   "outputs": [],
   "source": [
    "df_01073 = df.loc[df['fips']=='01073']"
   ]
  },
  {
   "cell_type": "code",
   "execution_count": 23,
   "metadata": {
    "collapsed": false
   },
   "outputs": [
    {
     "name": "stdout",
     "output_type": "stream",
     "text": [
      "267661\n",
      "2633\n"
     ]
    }
   ],
   "source": [
    "print len(df)\n",
    "print len(df_01073)"
   ]
  },
  {
   "cell_type": "code",
   "execution_count": 63,
   "metadata": {
    "collapsed": false
   },
   "outputs": [
    {
     "data": {
      "text/plain": [
       "<matplotlib.axes._subplots.AxesSubplot at 0x11d37cb10>"
      ]
     },
     "execution_count": 63,
     "metadata": {},
     "output_type": "execute_result"
    },
    {
     "data": {
      "image/png": "[encoded data removed]",
      "text/plain": [
       "<matplotlib.figure.Figure at 0x11d1e0f10>"
      ]
     },
     "metadata": {},
     "output_type": "display_data"
    }
   ],
   "source": [
    "df['YearBuilt'].hist()"
   ]
  },
  {
   "cell_type": "code",
   "execution_count": 64,
   "metadata": {
    "collapsed": false
   },
   "outputs": [],
   "source": []
  },
  {
   "cell_type": "code",
   "execution_count": 65,
   "metadata": {
    "collapsed": false
   },
   "outputs": [],
   "source": [
    "pipeline_yb = Pipeline([\n",
    "    ('year_built', YearBuiltExtractor())\n",
    "])"
   ]
  },
  {
   "cell_type": "code",
   "execution_count": 94,
   "metadata": {
    "collapsed": false
   },
   "outputs": [],
   "source": [
    "X = pipeline_yb.fit_transform(df)\n",
    "X_01073 = pipeline_yb.fit_transform(df_01073)"
   ]
  },
  {
   "cell_type": "markdown",
   "metadata": {},
   "source": [
    "# ALL data"
   ]
  },
  {
   "cell_type": "code",
   "execution_count": 96,
   "metadata": {
    "collapsed": false
   },
   "outputs": [
    {
     "data": {
      "text/plain": [
       "array([[<matplotlib.axes._subplots.AxesSubplot object at 0x121334390>]], dtype=object)"
      ]
     },
     "execution_count": 96,
     "metadata": {},
     "output_type": "execute_result"
    },
    {
     "data": {
      "image/png": "[encoded data removed]",
      "text/plain": [
       "<matplotlib.figure.Figure at 0x12164e950>"
      ]
     },
     "metadata": {},
     "output_type": "display_data"
    }
   ],
   "source": [
    "df_t = pd.DataFrame(X, columns=['YearBuiltT'])\n",
    "df_t.hist(bins=25, figsize=(10,3))"
   ]
  },
  {
   "cell_type": "markdown",
   "metadata": {},
   "source": [
    "# FIPS 01073"
   ]
  },
  {
   "cell_type": "code",
   "execution_count": 97,
   "metadata": {
    "collapsed": false
   },
   "outputs": [
    {
     "data": {
      "text/plain": [
       "array([[<matplotlib.axes._subplots.AxesSubplot object at 0x12038dd10>]], dtype=object)"
      ]
     },
     "execution_count": 97,
     "metadata": {},
     "output_type": "execute_result"
    },
    {
     "data": {
      "image/png": "[encoded data removed]",
      "text/plain": [
       "<matplotlib.figure.Figure at 0x121050b10>"
      ]
     },
     "metadata": {},
     "output_type": "display_data"
    }
   ],
   "source": [
    "df_t_01073 = pd.DataFrame(X_01073, columns=['YearBuiltT'])\n",
    "df_t_01073.hist(bins=25, figsize=(10,3))"
   ]
  },
  {
   "cell_type": "code",
   "execution_count": 68,
   "metadata": {
    "collapsed": false
   },
   "outputs": [
    {
     "data": {
      "text/plain": [
       "array([[<matplotlib.axes._subplots.AxesSubplot object at 0x113362910>]], dtype=object)"
      ]
     },
     "execution_count": 68,
     "metadata": {},
     "output_type": "execute_result"
    },
    {
     "data": {
      "image/png": "[encoded data removed]",
      "text/plain": [
       "<matplotlib.figure.Figure at 0x113438e90>"
      ]
     },
     "metadata": {},
     "output_type": "display_data"
    }
   ],
   "source": [
    "pipeline_yb = Pipeline([\n",
    "    ('year_built', YearBuiltExtractor()),\n",
    "    ('scaler', StandardScaler())\n",
    "])\n",
    "\n",
    "X = pipeline_yb.fit_transform(df_01073)\n",
    "\n",
    "pd.DataFrame(X, columns=['YearBuiltT']).hist()"
   ]
  },
  {
   "cell_type": "code",
   "execution_count": null,
   "metadata": {
    "collapsed": true
   },
   "outputs": [],
   "source": []
  },
  {
   "cell_type": "code",
   "execution_count": null,
   "metadata": {
    "collapsed": true
   },
   "outputs": [],
   "source": []
  }
 ],
 "metadata": {
  "kernelspec": {
   "display_name": "Python 2",
   "language": "python",
   "name": "python2"
  },
  "language_info": {
   "codemirror_mode": {
    "name": "ipython",
    "version": 2
   },
   "file_extension": ".py",
   "mimetype": "text/x-python",
   "name": "python",
   "nbconvert_exporter": "python",
   "pygments_lexer": "ipython2",
   "version": "2.7.11"
  }
 },
 "nbformat": 4,
 "nbformat_minor": 1
}
